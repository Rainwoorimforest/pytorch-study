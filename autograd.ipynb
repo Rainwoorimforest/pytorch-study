{
  "nbformat": 4,
  "nbformat_minor": 0,
  "metadata": {
    "colab": {
      "provenance": [],
      "authorship_tag": "ABX9TyMUE0Wm34gfmXF5cnE/sgt1",
      "include_colab_link": true
    },
    "kernelspec": {
      "name": "python3",
      "display_name": "Python 3"
    },
    "language_info": {
      "name": "python"
    }
  },
  "cells": [
    {
      "cell_type": "markdown",
      "metadata": {
        "id": "view-in-github",
        "colab_type": "text"
      },
      "source": [
        "<a href=\"https://colab.research.google.com/github/Rainwoorimforest/pytorch-study/blob/main/autograd.ipynb\" target=\"_parent\"><img src=\"https://colab.research.google.com/assets/colab-badge.svg\" alt=\"Open In Colab\"/></a>"
      ]
    },
    {
      "cell_type": "markdown",
      "source": [
        "# torch.autograd를 사용한 자동 미분\n",
        "\n",
        "신경망을 학습할 때 가장 자주 사용되는 알고리즘은 역전파입니다. 이 알고리즘에서, 매개변수(모델 가중치)는 주어진 매개변수에 대한 손실 함수의 변화도(gradient)에 따라 조정됩니다.\n",
        "\n",
        "이러한 변화도를 계산하기 위해 PyTorch에는 torch.autograd라고 불리는 자동 미분 엔진이 내장되어 있습니다. 이는 모든 계산 그래프에 대한 변화도의 자동 계산을 지원합니다."
      ],
      "metadata": {
        "id": "DQWSYqon4EF-"
      }
    },
    {
      "cell_type": "code",
      "execution_count": null,
      "metadata": {
        "colab": {
          "base_uri": "https://localhost:8080/"
        },
        "id": "q52uKXAbtwqp",
        "outputId": "2277e88a-9058-4562-a97f-1d999f53fa67"
      },
      "outputs": [
        {
          "output_type": "stream",
          "name": "stdout",
          "text": [
            "w의 행렬: tensor([[ 0.1176,  0.2751,  0.5637],\n",
            "        [ 0.2183,  0.1850,  1.1942],\n",
            "        [ 0.0509, -0.3063, -1.7054],\n",
            "        [ 0.2399, -0.2647,  1.2183],\n",
            "        [ 0.0580, -0.9009, -0.2244]], requires_grad=True)\n",
            "\n",
            "\n"
          ]
        }
      ],
      "source": [
        "import torch\n",
        "\n",
        "x = torch.ones(5)  # input tensor\n",
        "y = torch.zeros(3)  # expected output\n",
        "w = torch.randn(5, 3, requires_grad=True)\n",
        "b = torch.randn(3, requires_grad=True)\n",
        "z = torch.matmul(x, w)+b\n",
        "loss = torch.nn.functional.binary_cross_entropy_with_logits(z, y)\n",
        "\n",
        "print(f\"w의 행렬: {w}\\n\\n\")\n"
      ]
    },
    {
      "cell_type": "code",
      "source": [
        "print(loss)"
      ],
      "metadata": {
        "colab": {
          "base_uri": "https://localhost:8080/"
        },
        "id": "faiSBjHe6BAW",
        "outputId": "3e66d364-8fdd-4b2e-b717-37fd05d0a480"
      },
      "execution_count": null,
      "outputs": [
        {
          "output_type": "stream",
          "name": "stdout",
          "text": [
            "tensor(0.7336, grad_fn=<BinaryCrossEntropyWithLogitsBackward0>)\n"
          ]
        }
      ]
    },
    {
      "cell_type": "markdown",
      "source": [
        "https://pytorch.org/docs/stable/autograd.html#function"
      ],
      "metadata": {
        "id": "selv4PRH5wTG"
      }
    },
    {
      "cell_type": "code",
      "source": [
        "print(f\"Gradient function for z = {z.grad_fn}\")\n",
        "print(f\"Gradient function for loss = {loss.grad_fn}\")"
      ],
      "metadata": {
        "colab": {
          "base_uri": "https://localhost:8080/"
        },
        "id": "67IPrGld4sNv",
        "outputId": "31e6ff49-d504-4f84-f704-50d84c76286e"
      },
      "execution_count": null,
      "outputs": [
        {
          "output_type": "stream",
          "name": "stdout",
          "text": [
            "Gradient function for z = <AddBackward0 object at 0x7e0336b2fd60>\n",
            "Gradient function for loss = <BinaryCrossEntropyWithLogitsBackward0 object at 0x7e0336a24370>\n"
          ]
        }
      ]
    },
    {
      "cell_type": "markdown",
      "source": [
        "## 변화도(Gradient) 계산하기\n",
        "\n",
        "신경망에서 매개변수의 가중치를 최적화하려면 매개변수에 대한 손실함수의 도함수(derivative)를 계산해야 합니다. 즉, x와 y의 일부 고정값에서\n",
        "∂\n",
        "l\n",
        "o\n",
        "s\n",
        "s\n",
        "∂\n",
        "w\n",
        "∂w\n",
        "/∂loss\n",
        "​\n",
        " 와\n",
        "∂\n",
        "l\n",
        "o\n",
        "s\n",
        "s /\n",
        "∂\n",
        "b\n",
        "∂b\n",
        "∂loss\n",
        "​\n",
        "  가 필요합니다. 이러한 도함수를 계산하기 위해, loss.backward() 를 호출한 다음 w.grad와 b.grad에서 값을 가져옵니다"
      ],
      "metadata": {
        "id": "QGARWRNJ50sk"
      }
    },
    {
      "cell_type": "code",
      "source": [
        "loss.backward()\n",
        "print(w.grad)\n",
        "print(b.grad)"
      ],
      "metadata": {
        "colab": {
          "base_uri": "https://localhost:8080/"
        },
        "id": "hFJpr49W5VU8",
        "outputId": "994ea9b6-4bb9-4c59-fd53-9abd37ce600a"
      },
      "execution_count": null,
      "outputs": [
        {
          "output_type": "stream",
          "name": "stdout",
          "text": [
            "tensor([[0.2056, 0.1073, 0.1913],\n",
            "        [0.2056, 0.1073, 0.1913],\n",
            "        [0.2056, 0.1073, 0.1913],\n",
            "        [0.2056, 0.1073, 0.1913],\n",
            "        [0.2056, 0.1073, 0.1913]])\n",
            "tensor([0.2056, 0.1073, 0.1913])\n"
          ]
        }
      ]
    },
    {
      "cell_type": "code",
      "source": [
        "z = torch.matmul(x, w)+b\n",
        "print(z.requires_grad)\n",
        "\n",
        "with torch.no_grad(): # 그라디언트 추적을 하지 않음. = 연산 추적을 비활성화 = 예측만\n",
        "    z = torch.matmul(x, w)+b\n",
        "print(z.requires_grad)"
      ],
      "metadata": {
        "colab": {
          "base_uri": "https://localhost:8080/"
        },
        "id": "e3J0c5ab6Fbw",
        "outputId": "598cc542-c3f6-4309-d51a-3617469cbf06"
      },
      "execution_count": null,
      "outputs": [
        {
          "output_type": "stream",
          "name": "stdout",
          "text": [
            "True\n",
            "False\n"
          ]
        }
      ]
    },
    {
      "cell_type": "code",
      "source": [
        "z = torch.matmul(x, w)+b\n",
        "z_det = z.detach()\n",
        "print(z_det.requires_grad)"
      ],
      "metadata": {
        "colab": {
          "base_uri": "https://localhost:8080/"
        },
        "id": "M24_Hg2f7laG",
        "outputId": "3c0b8147-626e-4580-d97c-d720f082c0c5"
      },
      "execution_count": null,
      "outputs": [
        {
          "output_type": "stream",
          "name": "stdout",
          "text": [
            "False\n"
          ]
        }
      ]
    },
    {
      "cell_type": "code",
      "source": [],
      "metadata": {
        "id": "HfUTX7f_8Xsw"
      },
      "execution_count": null,
      "outputs": []
    },
    {
      "cell_type": "code",
      "source": [],
      "metadata": {
        "id": "G31vCKK78vm2"
      },
      "execution_count": null,
      "outputs": []
    },
    {
      "cell_type": "code",
      "source": [],
      "metadata": {
        "id": "WJ0JzjF78vqT"
      },
      "execution_count": null,
      "outputs": []
    },
    {
      "cell_type": "markdown",
      "source": [
        "# 모델 매개변수 최적화하기\n",
        "\n",
        "이제 모델과 데이터가 준비되었으니, 데이터에 매개변수를 최적화하여 모델을 학습하고, 검증하고, 테스트할 차례입니다. 모델을 학습하는 과정은 반복적인 과정을 거칩니다; 각 반복 단계에서 모델은 출력을 추측하고, 추측과 정답 사이의 오류(손실(loss))를 계산하고, (이전 장에서 본 것처럼) 매개변수에 대한 오류의 도함수(derivative)를 수집한 뒤, 경사하강법을 사용하여 이 파라미터들을 최적화(optimize)합니다. 이 과정에 대한 자세한 설명은 3Blue1Brown의 역전파 영상을 참고하세요"
      ],
      "metadata": {
        "id": "fFJtdneC8wSX"
      }
    },
    {
      "cell_type": "code",
      "source": [
        "import torch\n",
        "from torch import nn\n",
        "from torch.utils.data import DataLoader\n",
        "from torchvision import datasets\n",
        "from torchvision.transforms import ToTensor\n",
        "\n",
        "training_data = datasets.FashionMNIST(\n",
        "    root=\"data\",\n",
        "    train=True,\n",
        "    download=True,\n",
        "    transform=ToTensor()\n",
        ")\n",
        "\n",
        "test_data = datasets.FashionMNIST(\n",
        "    root=\"data\",\n",
        "    train=False,\n",
        "    download=True,\n",
        "    transform=ToTensor()\n",
        ")\n",
        "\n",
        "train_dataloader = DataLoader(training_data, batch_size=64)\n",
        "test_dataloader = DataLoader(test_data, batch_size=64)\n",
        "\n",
        "class NeuralNetwork(nn.Module):\n",
        "    def __init__(self):\n",
        "        super().__init__()\n",
        "        self.flatten = nn.Flatten()\n",
        "        self.linear_relu_stack = nn.Sequential(\n",
        "            nn.Linear(28*28, 512),\n",
        "            nn.ReLU(),\n",
        "            nn.Linear(512, 512),\n",
        "            nn.ReLU(),\n",
        "            nn.Linear(512, 10),\n",
        "        )\n",
        "\n",
        "    def forward(self, x):\n",
        "        x = self.flatten(x)\n",
        "        logits = self.linear_relu_stack(x)\n",
        "        return logits\n",
        "\n",
        "model = NeuralNetwork()"
      ],
      "metadata": {
        "colab": {
          "base_uri": "https://localhost:8080/"
        },
        "id": "00LKIQZz87ES",
        "outputId": "542c606a-ca6d-4ba0-b802-d9056e136c18"
      },
      "execution_count": null,
      "outputs": [
        {
          "output_type": "stream",
          "name": "stderr",
          "text": [
            "100%|██████████| 26.4M/26.4M [00:01<00:00, 21.3MB/s]\n",
            "100%|██████████| 29.5k/29.5k [00:00<00:00, 341kB/s]\n",
            "100%|██████████| 4.42M/4.42M [00:00<00:00, 6.31MB/s]\n",
            "100%|██████████| 5.15k/5.15k [00:00<00:00, 17.9MB/s]\n"
          ]
        }
      ]
    },
    {
      "cell_type": "markdown",
      "source": [
        "## 하이퍼파라미터\n",
        "\n",
        "\n",
        "* Ray Tune을 사용한 하이퍼파라미터 튜닝\n",
        "https://tutorials.pytorch.kr/beginner/hyperparameter_tuning_tutorial.html\n",
        "\n",
        "\n",
        "* 에폭(epoch) 수 - 데이터셋을 반복하는 횟수\n",
        "\n",
        "* 배치 크기(batch size) - 매개변수가 갱신되기 전 신경망을 통해 전파된 데이터 샘플의 수\n",
        "\n",
        "* 학습률(learning rate) - 각 배치/에폭에서 모델의 매개변수를 조절하는 비율. 값이 작을수록 학습 속도가 느려지고, 값이 크면 학습 중 예측할 수 없는 동작이 발생할 수 있습니다."
      ],
      "metadata": {
        "id": "6EJiLASz9HNi"
      }
    },
    {
      "cell_type": "code",
      "source": [
        "learning_rate = 1e-3\n",
        "batch_size = 64\n",
        "epochs = 5"
      ],
      "metadata": {
        "id": "4itCUXlx9Cat"
      },
      "execution_count": null,
      "outputs": []
    },
    {
      "cell_type": "markdown",
      "source": [
        "## 최적화 단계\n",
        "\n",
        "하이퍼파라미터를 설정한 뒤에는 최적화 단계를 통해 모델을 학습하고 최적화할 수 있습니다. 최적화 단계의 각 반복(iteration)을 에폭이라고 부릅니다.\n",
        "\n",
        "하나의 에폭은 다음 두 부분으로 구성됩니다:\n",
        "학습 단계(train loop) - 학습용 데이터셋을 반복(iterate)하고 최적의 매개변수로 수렴합니다.\n",
        "\n",
        "검증/테스트 단계(validation/test loop) - 모델 성능이 개선되고 있는지를 확인하기 위해 테스트 데이터셋을 반복(iterate)합니다"
      ],
      "metadata": {
        "id": "cknWNKN-9WOC"
      }
    },
    {
      "cell_type": "markdown",
      "source": [
        "### 손실함수\n",
        "\n",
        "일반적인 손실함수에는 회귀 문제(regression task)에 사용하는 nn.MSELoss(평균 제곱 오차(MSE; Mean Square Error))나 분류(classification)에 사용하는 nn.NLLLoss (음의 로그 우도(Negative Log Likelihood)), 그리고 nn.LogSoftmax와 nn.NLLLoss를 합친 nn.CrossEntropyLoss 등이 있습니다.\n",
        "\n",
        "모델의 출력 로짓(logit)을 nn.CrossEntropyLoss에 전달하여 로짓(logit)을 정규화하고 예측 오류를 계산합니다."
      ],
      "metadata": {
        "id": "tXT-r0me9jmb"
      }
    },
    {
      "cell_type": "code",
      "source": [
        "# 손실 함수를 초기화합니다.\n",
        "loss_fn = nn.CrossEntropyLoss()"
      ],
      "metadata": {
        "id": "RZMSo1_q9VGj"
      },
      "execution_count": null,
      "outputs": []
    },
    {
      "cell_type": "markdown",
      "source": [
        "# 옵티마이저\n",
        "\n",
        "최적화는 각 학습 단계에서 모델의 오류를 줄이기 위해 모델 매개변수를 조정하는 과정입니다. 최적화 알고리즘은 이 과정이 수행되는 방식(여기에서는 확률적 경사하강법(SGD; Stochastic Gradient Descent))을 정의합니다. 모든 최적화 절차(logic)는 optimizer 객체에 캡슐화(encapsulate)됩니다. 여기서는 SGD 옵티마이저를 사용하고 있으며, PyTorch에는 ADAM이나 RMSProp과 같은 다른 종류의 모델과 데이터에서 더 잘 동작하는 다양한 옵티마이저가 있습니다\n",
        "\n",
        "\n",
        "다양한 옵티마이저: https://pytorch.org/docs/stable/optim.html"
      ],
      "metadata": {
        "id": "lP25jh9N9yvV"
      }
    },
    {
      "cell_type": "code",
      "source": [
        "optimizer = torch.optim.SGD(model.parameters(), lr=learning_rate)"
      ],
      "metadata": {
        "id": "zFeu50GJ9syy"
      },
      "execution_count": null,
      "outputs": []
    },
    {
      "cell_type": "markdown",
      "source": [
        "학습 단계(loop)에서 최적화는 세단계로 이뤄집니다:\n",
        "optimizer.zero_grad()를 호출하여 모델 매개변수의 변화도를 재설정합니다. 기본적으로 변화도는 더해지기(add up) 때문에 중복 계산을 막기 위해 반복할 때마다 명시적으로 0으로 설정합니다.\n",
        "\n",
        "loss.backwards()를 호출하여 예측 손실(prediction loss)을 역전파합니다. PyTorch는 각 매개변수에 대한 손실의 변화도를 저장합니다.\n",
        "\n",
        "변화도를 계산한 뒤에는 optimizer.step()을 호출하여 역전파 단계에서 수집된 변화도로 매개변수를 조정합니다."
      ],
      "metadata": {
        "id": "G7-c_97y-mQQ"
      }
    },
    {
      "cell_type": "code",
      "source": [],
      "metadata": {
        "id": "3mJgG7RX-Fya"
      },
      "execution_count": null,
      "outputs": []
    },
    {
      "cell_type": "markdown",
      "source": [
        "# 전체 구현"
      ],
      "metadata": {
        "id": "4ExTDJnr-nJK"
      }
    },
    {
      "cell_type": "code",
      "source": [
        "def train_loop(dataloader, model, loss_fn, optimizer):\n",
        "    size = len(dataloader.dataset)\n",
        "    # 모델을 학습(train) 모드로 설정합니다 - 배치 정규화(Batch Normalization) 및 드롭아웃(Dropout) 레이어들에 중요합니다.\n",
        "    # 이 예시에서는 없어도 되지만, 모범 사례를 위해 추가해두었습니다.\n",
        "    model.train()\n",
        "    for batch, (X, y) in enumerate(dataloader):\n",
        "        # 예측(prediction)과 손실(loss) 계산\n",
        "        pred = model(X)\n",
        "        loss = loss_fn(pred, y)\n",
        "\n",
        "        # 역전파\n",
        "        loss.backward()\n",
        "        optimizer.step()\n",
        "        optimizer.zero_grad()\n",
        "\n",
        "        if batch % 100 == 0:\n",
        "            loss, current = loss.item(), batch * batch_size + len(X)\n",
        "            print(f\"loss: {loss:>7f}  [{current:>5d}/{size:>5d}]\")\n",
        "\n",
        "\n"
      ],
      "metadata": {
        "id": "5sR9GpeS-n5D"
      },
      "execution_count": null,
      "outputs": []
    },
    {
      "cell_type": "code",
      "source": [
        "def test_loop(dataloader, model, loss_fn):\n",
        "    # 모델을 평가(eval) 모드로 설정합니다 - 배치 정규화(Batch Normalization) 및 드롭아웃(Dropout) 레이어들에 중요합니다.\n",
        "    # 이 예시에서는 없어도 되지만, 모범 사례를 위해 추가해두었습니다.\n",
        "    model.eval()\n",
        "    size = len(dataloader.dataset)\n",
        "    num_batches = len(dataloader)\n",
        "    test_loss, correct = 0, 0\n",
        "\n",
        "    # torch.no_grad()를 사용하여 테스트 시 변화도(gradient)를 계산하지 않도록 합니다.\n",
        "    # 이는 requires_grad=True로 설정된 텐서들의 불필요한 변화도 연산 및 메모리 사용량 또한 줄여줍니다.\n",
        "    with torch.no_grad():\n",
        "        for X, y in dataloader:\n",
        "            pred = model(X)\n",
        "            test_loss += loss_fn(pred, y).item()\n",
        "            correct += (pred.argmax(1) == y).type(torch.float).sum().item()\n",
        "\n",
        "    test_loss /= num_batches\n",
        "    correct /= size\n",
        "    print(f\"Test Error: \\n Accuracy: {(100*correct):>0.1f}%, Avg loss: {test_loss:>8f} \\n\")"
      ],
      "metadata": {
        "id": "P9vBiGo_-rne"
      },
      "execution_count": null,
      "outputs": []
    },
    {
      "cell_type": "code",
      "source": [
        "loss_fn = nn.CrossEntropyLoss()\n",
        "optimizer = torch.optim.SGD(model.parameters(), lr=learning_rate)\n",
        "\n",
        "epochs = 10\n",
        "for t in range(epochs):\n",
        "    print(f\"Epoch {t+1}\\n-------------------------------\")\n",
        "    train_loop(train_dataloader, model, loss_fn, optimizer)\n",
        "    test_loop(test_dataloader, model, loss_fn)\n",
        "print(\"Done!\")"
      ],
      "metadata": {
        "colab": {
          "base_uri": "https://localhost:8080/"
        },
        "id": "7ek2aQpH-s4N",
        "outputId": "111562da-8035-40b9-9342-1b3378431875"
      },
      "execution_count": null,
      "outputs": [
        {
          "output_type": "stream",
          "name": "stdout",
          "text": [
            "Epoch 1\n",
            "-------------------------------\n",
            "loss: 2.300957  [   64/60000]\n",
            "loss: 2.289298  [ 6464/60000]\n",
            "loss: 2.264532  [12864/60000]\n",
            "loss: 2.268130  [19264/60000]\n",
            "loss: 2.258317  [25664/60000]\n",
            "loss: 2.226251  [32064/60000]\n",
            "loss: 2.245830  [38464/60000]\n",
            "loss: 2.203245  [44864/60000]\n",
            "loss: 2.204762  [51264/60000]\n",
            "loss: 2.189622  [57664/60000]\n",
            "Test Error: \n",
            " Accuracy: 44.9%, Avg loss: 2.174765 \n",
            "\n",
            "Epoch 2\n",
            "-------------------------------\n",
            "loss: 2.181859  [   64/60000]\n",
            "loss: 2.175886  [ 6464/60000]\n",
            "loss: 2.117176  [12864/60000]\n",
            "loss: 2.137805  [19264/60000]\n",
            "loss: 2.105599  [25664/60000]\n",
            "loss: 2.042927  [32064/60000]\n",
            "loss: 2.078578  [38464/60000]\n",
            "loss: 1.991220  [44864/60000]\n",
            "loss: 1.997236  [51264/60000]\n",
            "loss: 1.946064  [57664/60000]\n",
            "Test Error: \n",
            " Accuracy: 56.2%, Avg loss: 1.933700 \n",
            "\n",
            "Epoch 3\n",
            "-------------------------------\n",
            "loss: 1.961335  [   64/60000]\n",
            "loss: 1.941225  [ 6464/60000]\n",
            "loss: 1.820439  [12864/60000]\n",
            "loss: 1.859548  [19264/60000]\n",
            "loss: 1.778859  [25664/60000]\n",
            "loss: 1.711666  [32064/60000]\n",
            "loss: 1.744207  [38464/60000]\n",
            "loss: 1.623852  [44864/60000]\n",
            "loss: 1.649608  [51264/60000]\n",
            "loss: 1.562713  [57664/60000]\n",
            "Test Error: \n",
            " Accuracy: 59.9%, Avg loss: 1.568231 \n",
            "\n",
            "Epoch 4\n",
            "-------------------------------\n",
            "loss: 1.631700  [   64/60000]\n",
            "loss: 1.600336  [ 6464/60000]\n",
            "loss: 1.441404  [12864/60000]\n",
            "loss: 1.514420  [19264/60000]\n",
            "loss: 1.417102  [25664/60000]\n",
            "loss: 1.390363  [32064/60000]\n",
            "loss: 1.421439  [38464/60000]\n",
            "loss: 1.318066  [44864/60000]\n",
            "loss: 1.356391  [51264/60000]\n",
            "loss: 1.272541  [57664/60000]\n",
            "Test Error: \n",
            " Accuracy: 63.2%, Avg loss: 1.290420 \n",
            "\n",
            "Epoch 5\n",
            "-------------------------------\n",
            "loss: 1.367517  [   64/60000]\n",
            "loss: 1.345927  [ 6464/60000]\n",
            "loss: 1.174430  [12864/60000]\n",
            "loss: 1.282054  [19264/60000]\n",
            "loss: 1.176104  [25664/60000]\n",
            "loss: 1.182770  [32064/60000]\n",
            "loss: 1.217748  [38464/60000]\n",
            "loss: 1.128247  [44864/60000]\n",
            "loss: 1.170021  [51264/60000]\n",
            "loss: 1.097866  [57664/60000]\n",
            "Test Error: \n",
            " Accuracy: 64.7%, Avg loss: 1.114574 \n",
            "\n",
            "Epoch 6\n",
            "-------------------------------\n",
            "loss: 1.187778  [   64/60000]\n",
            "loss: 1.181255  [ 6464/60000]\n",
            "loss: 0.996182  [12864/60000]\n",
            "loss: 1.132759  [19264/60000]\n",
            "loss: 1.022762  [25664/60000]\n",
            "loss: 1.040259  [32064/60000]\n",
            "loss: 1.085724  [38464/60000]\n",
            "loss: 1.003698  [44864/60000]\n",
            "loss: 1.047090  [51264/60000]\n",
            "loss: 0.984576  [57664/60000]\n",
            "Test Error: \n",
            " Accuracy: 65.8%, Avg loss: 0.998701 \n",
            "\n",
            "Epoch 7\n",
            "-------------------------------\n",
            "loss: 1.059823  [   64/60000]\n",
            "loss: 1.072384  [ 6464/60000]\n",
            "loss: 0.872846  [12864/60000]\n",
            "loss: 1.031913  [19264/60000]\n",
            "loss: 0.925533  [25664/60000]\n",
            "loss: 0.938509  [32064/60000]\n",
            "loss: 0.997408  [38464/60000]\n",
            "loss: 0.921399  [44864/60000]\n",
            "loss: 0.962264  [51264/60000]\n",
            "loss: 0.908923  [57664/60000]\n",
            "Test Error: \n",
            " Accuracy: 66.9%, Avg loss: 0.920074 \n",
            "\n",
            "Epoch 8\n",
            "-------------------------------\n",
            "loss: 0.965466  [   64/60000]\n",
            "loss: 0.997550  [ 6464/60000]\n",
            "loss: 0.785169  [12864/60000]\n",
            "loss: 0.961524  [19264/60000]\n",
            "loss: 0.861868  [25664/60000]\n",
            "loss: 0.864592  [32064/60000]\n",
            "loss: 0.935880  [38464/60000]\n",
            "loss: 0.866174  [44864/60000]\n",
            "loss: 0.901869  [51264/60000]\n",
            "loss: 0.855992  [57664/60000]\n",
            "Test Error: \n",
            " Accuracy: 68.1%, Avg loss: 0.864395 \n",
            "\n",
            "Epoch 9\n",
            "-------------------------------\n",
            "loss: 0.893978  [   64/60000]\n",
            "loss: 0.942999  [ 6464/60000]\n",
            "loss: 0.720839  [12864/60000]\n",
            "loss: 0.910465  [19264/60000]\n",
            "loss: 0.816837  [25664/60000]\n",
            "loss: 0.809899  [32064/60000]\n",
            "loss: 0.890250  [38464/60000]\n",
            "loss: 0.827768  [44864/60000]\n",
            "loss: 0.857340  [51264/60000]\n",
            "loss: 0.816707  [57664/60000]\n",
            "Test Error: \n",
            " Accuracy: 69.5%, Avg loss: 0.822960 \n",
            "\n",
            "Epoch 10\n",
            "-------------------------------\n",
            "loss: 0.837559  [   64/60000]\n",
            "loss: 0.900577  [ 6464/60000]\n",
            "loss: 0.671587  [12864/60000]\n",
            "loss: 0.872081  [19264/60000]\n",
            "loss: 0.782810  [25664/60000]\n",
            "loss: 0.768236  [32064/60000]\n",
            "loss: 0.854284  [38464/60000]\n",
            "loss: 0.799531  [44864/60000]\n",
            "loss: 0.823122  [51264/60000]\n",
            "loss: 0.785843  [57664/60000]\n",
            "Test Error: \n",
            " Accuracy: 70.8%, Avg loss: 0.790459 \n",
            "\n",
            "Done!\n"
          ]
        }
      ]
    },
    {
      "cell_type": "code",
      "source": [],
      "metadata": {
        "id": "z7tRmYoM-xXD"
      },
      "execution_count": null,
      "outputs": []
    }
  ]
}