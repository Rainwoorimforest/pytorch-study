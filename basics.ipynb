{
 "cells": [
  {
   "cell_type": "code",
   "execution_count": 2,
   "metadata": {},
   "outputs": [],
   "source": [
    "import torch\n",
    "import numpy as np"
   ]
  },
  {
   "cell_type": "markdown",
   "metadata": {},
   "source": [
    "# 텐서 초기화\n",
    "1. 데이터로 부터 직접 생성하기\n",
    "2. numpy 배열로부터 생성하기"
   ]
  },
  {
   "cell_type": "code",
   "execution_count": 46,
   "metadata": {},
   "outputs": [
    {
     "data": {
      "text/plain": [
       "tensor([[1, 2],\n",
       "        [3, 4]])"
      ]
     },
     "execution_count": 46,
     "metadata": {},
     "output_type": "execute_result"
    }
   ],
   "source": [
    "# 데이터로 부터 직접 생성하기\n",
    "# 데이터 자료형은 자동으로 유추한다\n",
    "data = [[1,2], [3,4]]\n",
    "x_data = torch.tensor(data)\n",
    "x_data"
   ]
  },
  {
   "cell_type": "code",
   "execution_count": 47,
   "metadata": {},
   "outputs": [
    {
     "data": {
      "text/plain": [
       "tensor([[1, 2],\n",
       "        [3, 4]], dtype=torch.int32)"
      ]
     },
     "execution_count": 47,
     "metadata": {},
     "output_type": "execute_result"
    }
   ],
   "source": [
    "# NumPy 배열로부터 tensor 생성하기\n",
    "np_array = np.array(data)\n",
    "x_np = torch.from_numpy(np_array)\n",
    "x_np"
   ]
  },
  {
   "cell_type": "code",
   "execution_count": 48,
   "metadata": {},
   "outputs": [
    {
     "name": "stdout",
     "output_type": "stream",
     "text": [
      "Ones 텐서: \n",
      " tensor([[1, 1],\n",
      "        [1, 1]]) \n",
      "\n",
      "random tensor: \n",
      " tensor([[0.2964, 0.1905],\n",
      "        [0.3324, 0.5172]]) \n",
      "\n"
     ]
    }
   ],
   "source": [
    "# 명시적으로 재정의(override)하지 않으면, 인자로 주어진 텐서의 속성(모양(shape), 자료형(datatype))를 유지\n",
    "x_ones = torch.ones_like(x_data) # x_data 속성 유지\n",
    "print(f\"Ones 텐서: \\n {x_ones} \\n\")\n",
    "\n",
    "x_rand = torch.rand_like(x_data, dtype = torch.float) # x_data의 속성을 덮어씁니다.\n",
    "print(f\"random tensor: \\n {x_rand} \\n\")"
   ]
  },
  {
   "cell_type": "markdown",
   "metadata": {},
   "source": [
    "### 무작위(random) 또는 상수(constant) 값을 사용하기\n",
    "\n",
    "* shape은 텐서의 차원(dimension)을 나타내는 튜플로, 아래 함수들에서는 출력 텐서의 차원을 결정"
   ]
  },
  {
   "cell_type": "code",
   "execution_count": 49,
   "metadata": {},
   "outputs": [
    {
     "name": "stdout",
     "output_type": "stream",
     "text": [
      "rand tensor: \n",
      " tensor([[0.9777, 0.0995, 0.1882],\n",
      "        [0.5400, 0.4690, 0.8892]]) \n",
      "\n",
      "one tensor: \n",
      " tensor([[1., 1., 1.],\n",
      "        [1., 1., 1.]]) \n",
      "\n",
      "zero tensor: \n",
      " tensor([[0., 0., 0.],\n",
      "        [0., 0., 0.]]) \n",
      "\n"
     ]
    }
   ],
   "source": [
    "shape = (2,3,) \n",
    "rand_tensor = torch.rand(shape)\n",
    "one_tensor = torch.ones(shape)\n",
    "zero_tensor = torch.zeros(shape)\n",
    "\n",
    "print(f\"rand tensor: \\n {rand_tensor} \\n\")\n",
    "print(f\"one tensor: \\n {one_tensor} \\n\")\n",
    "print(f\"zero tensor: \\n {zero_tensor} \\n\")\n"
   ]
  },
  {
   "cell_type": "markdown",
   "metadata": {},
   "source": [
    "# 텐서의 속성\n",
    "* 텐서의 모양 (shape)\n",
    "* 텐서의 자료형(datatype)"
   ]
  },
  {
   "cell_type": "code",
   "execution_count": 50,
   "metadata": {},
   "outputs": [
    {
     "name": "stdout",
     "output_type": "stream",
     "text": [
      "shape: \n",
      " torch.Size([3, 4]) \n",
      "\n",
      "datatype: \n",
      " torch.float32 \n",
      "\n",
      "device tensor is stored on: \n",
      " cpu \n",
      "\n"
     ]
    }
   ],
   "source": [
    "tensor = torch.rand(3,4)\n",
    "\n",
    "print(f\"shape: \\n {tensor.shape} \\n\")\n",
    "print(f\"datatype: \\n {tensor.dtype} \\n\")\n",
    "print(f\"device tensor is stored on: \\n {tensor.device} \\n\")\n",
    "\n"
   ]
  },
  {
   "cell_type": "markdown",
   "metadata": {},
   "source": [
    "# 텐서의 연산\n",
    "기본적으로 텐서는 cpu에 할당 됨."
   ]
  },
  {
   "cell_type": "code",
   "execution_count": 53,
   "metadata": {},
   "outputs": [
    {
     "name": "stdout",
     "output_type": "stream",
     "text": [
      "tensor: \n",
      " tensor([[1., 1., 1., 1.],\n",
      "        [1., 1., 1., 1.],\n",
      "        [1., 1., 1., 1.]]) \n",
      "\n",
      "First row: tensor([1., 1., 1., 1.])\n",
      "fisrt col: tensor([1., 1., 1.])\n",
      "last col: tensor([1., 1., 1.])\n"
     ]
    }
   ],
   "source": [
    "#numpy 식의 표준 인덱싱과 슬라이싱\n",
    "\n",
    "# tensor = torch.ones(3,4)\n",
    "\n",
    "print(f\"tensor: \\n {tensor} \\n\")\n",
    "print(f\"First row: {tensor[0]}\")\n",
    "print(f\"fisrt col: {tensor[:,0]}\")\n",
    "print(f\"last col: {tensor[..., -1]}\")\n"
   ]
  },
  {
   "cell_type": "code",
   "execution_count": 54,
   "metadata": {},
   "outputs": [],
   "source": [
    "tensor[:,3] = 4"
   ]
  },
  {
   "cell_type": "markdown",
   "metadata": {},
   "source": [
    "* pytorch에서는 텐서는 차원 0부터 센타\n",
    "\n",
    "dim = 0은 첫번째 차원 (행 방향, batch 차원)\n",
    "dim = 1은 두번째 차원 (열 방향, feature 차원)"
   ]
  },
  {
   "cell_type": "code",
   "execution_count": 55,
   "metadata": {},
   "outputs": [
    {
     "name": "stdout",
     "output_type": "stream",
     "text": [
      "tensor([[1., 1., 1., 4., 1., 1., 1., 4., 1., 1., 1., 4.],\n",
      "        [1., 1., 1., 4., 1., 1., 1., 4., 1., 1., 1., 4.],\n",
      "        [1., 1., 1., 4., 1., 1., 1., 4., 1., 1., 1., 4.]])\n",
      "tensor([[1., 1., 1., 4.],\n",
      "        [1., 1., 1., 4.],\n",
      "        [1., 1., 1., 4.],\n",
      "        [1., 1., 1., 4.],\n",
      "        [1., 1., 1., 4.],\n",
      "        [1., 1., 1., 4.],\n",
      "        [1., 1., 1., 4.],\n",
      "        [1., 1., 1., 4.],\n",
      "        [1., 1., 1., 4.]])\n"
     ]
    }
   ],
   "source": [
    "t1 = torch.cat([tensor, tensor, tensor], dim = 1)\n",
    "t2 = torch.cat([tensor, tensor, tensor], dim =0)\n",
    "print(t1)\n",
    "print(t2)"
   ]
  },
  {
   "cell_type": "markdown",
   "metadata": {},
   "source": [
    "## tensor의 산술 연산"
   ]
  },
  {
   "cell_type": "code",
   "execution_count": 56,
   "metadata": {},
   "outputs": [
    {
     "name": "stdout",
     "output_type": "stream",
     "text": [
      "tensor([[1., 1., 1., 4.],\n",
      "        [1., 1., 1., 4.],\n",
      "        [1., 1., 1., 4.]])\n",
      "tensor([[1., 1., 1., 4.],\n",
      "        [1., 1., 1., 4.],\n",
      "        [1., 1., 1., 4.]])\n"
     ]
    }
   ],
   "source": [
    "print(tensor) # 3 x 4\n",
    "\n",
    "print(tensor)"
   ]
  },
  {
   "cell_type": "code",
   "execution_count": 57,
   "metadata": {},
   "outputs": [
    {
     "name": "stdout",
     "output_type": "stream",
     "text": [
      "tensor([[19., 19., 19.],\n",
      "        [19., 19., 19.],\n",
      "        [19., 19., 19.]])\n",
      "tensor([[19., 19., 19.],\n",
      "        [19., 19., 19.],\n",
      "        [19., 19., 19.]])\n",
      "tensor([[19., 19., 19.],\n",
      "        [19., 19., 19.],\n",
      "        [19., 19., 19.]])\n"
     ]
    }
   ],
   "source": [
    "# 두 텐서 간의 행렬 곱을 계산\n",
    "# y1 = y2 = y3\n",
    "\n",
    "y1 = tensor @ tensor.T\n",
    "print(y1)\n",
    "\n",
    "y2 = tensor.matmul(tensor.T)\n",
    "print(y2)\n",
    "\n",
    "y3 = torch.rand_like(y1)\n",
    "torch.matmul(tensor, tensor.T, out = y3)\n",
    "print(y3)\n",
    "\n"
   ]
  },
  {
   "cell_type": "code",
   "execution_count": 58,
   "metadata": {},
   "outputs": [
    {
     "name": "stdout",
     "output_type": "stream",
     "text": [
      "tensor([[ 1.,  1.,  1., 16.],\n",
      "        [ 1.,  1.,  1., 16.],\n",
      "        [ 1.,  1.,  1., 16.]])\n",
      "tensor([[ 1.,  1.,  1., 16.],\n",
      "        [ 1.,  1.,  1., 16.],\n",
      "        [ 1.,  1.,  1., 16.]])\n"
     ]
    },
    {
     "data": {
      "text/plain": [
       "tensor([[ 1.,  1.,  1., 16.],\n",
       "        [ 1.,  1.,  1., 16.],\n",
       "        [ 1.,  1.,  1., 16.]])"
      ]
     },
     "execution_count": 58,
     "metadata": {},
     "output_type": "execute_result"
    }
   ],
   "source": [
    "# 요소별 곱\n",
    "z1 = tensor * tensor\n",
    "print(z1)\n",
    "\n",
    "z2 = tensor.mul(tensor)\n",
    "print(z2)\n",
    "\n",
    "z3 = torch.rand_like(tensor)\n",
    "torch.mul(tensor, tensor, out=z3)"
   ]
  },
  {
   "cell_type": "code",
   "execution_count": 59,
   "metadata": {},
   "outputs": [
    {
     "name": "stdout",
     "output_type": "stream",
     "text": [
      "tensor([[1., 1., 1., 4.],\n",
      "        [1., 1., 1., 4.],\n",
      "        [1., 1., 1., 4.]])\n",
      "tensor(21.) <class 'torch.Tensor'>\n",
      "21.0 <class 'float'>\n",
      "tensor([[6., 6., 6., 9.],\n",
      "        [6., 6., 6., 9.],\n",
      "        [6., 6., 6., 9.]])\n"
     ]
    }
   ],
   "source": [
    "# 단일 요소(single-element) 텐서\n",
    "# tensor의 모든 값을 sum하여(이를 집계라 하냐? ) 요소가 하나인 텐서의 경우 item()을 사용하여 python 숫자 값으로 dtype 변환\n",
    "\n",
    "\n",
    "agg = tensor.sum()\n",
    "print(tensor)\n",
    "print(agg, type(agg))\n",
    "\n",
    "agg_item = agg.item()\n",
    "print(agg_item, type(agg_item))\n",
    "\n",
    "# 모든 요소에 5 더하기\n",
    "tensor.add_(5)\n",
    "print(tensor)"
   ]
  },
  {
   "cell_type": "markdown",
   "metadata": {},
   "source": [
    "# numpy 변환\n",
    "cpu 상의 텐서와 numpy 배열은 메모리 공간을 공유해서 하나를 변경하면 다른 하나도 변경\n",
    "\n",
    "그리고 tensor -> numpy 변경 가능, numpy -> tensor 또한 변경 가능"
   ]
  },
  {
   "cell_type": "markdown",
   "metadata": {},
   "source": [
    "### Tensor -> numpy"
   ]
  },
  {
   "cell_type": "code",
   "execution_count": 63,
   "metadata": {},
   "outputs": [
    {
     "name": "stdout",
     "output_type": "stream",
     "text": [
      "t: tensor([1., 1., 1., 1., 1.]) \n",
      "n: [1. 1. 1. 1. 1.]\n",
      "t: tensor([4., 4., 4., 4., 4.]) \n",
      "n: [4. 4. 4. 4. 4.]\n",
      "t: tensor([1, 1, 1, 1, 1], dtype=torch.int32)\n",
      "n: [1 1 1 1 1]\n"
     ]
    }
   ],
   "source": [
    "t = torch.ones(5)\n",
    "print(f\"t: {t} \")\n",
    "\n",
    "n = t.numpy()\n",
    "print(f\"n: {n}\")\n",
    "\n",
    "# 기본적으로 torch.ones()는 float32 타입의 센서를 생성\n",
    "# .이 찍혀나오는 이유는 데이터 타입이 float형이라 그럼\n",
    "\n",
    "t.add_(3)\n",
    "print(f\"t: {t} \")\n",
    "print(f\"n: {n}\")\n",
    "\n",
    "# int로 바꾸면\n",
    "\n",
    "t = torch.ones(5, dtype=torch.int)\n",
    "print(f\"t: {t}\")\n",
    "\n",
    "n = t.numpy()\n",
    "print(f\"n: {n}\")"
   ]
  },
  {
   "cell_type": "markdown",
   "metadata": {},
   "source": [
    "### numpy -> tensor"
   ]
  },
  {
   "cell_type": "code",
   "execution_count": 68,
   "metadata": {},
   "outputs": [
    {
     "name": "stdout",
     "output_type": "stream",
     "text": [
      "[1. 1. 1. 1. 1.]\n",
      "tensor([1., 1., 1., 1., 1.], dtype=torch.float64)\n"
     ]
    }
   ],
   "source": [
    "n = np.ones(5)\n",
    "t = torch.from_numpy(n)\n",
    "\n",
    "print(n)\n",
    "print(t)"
   ]
  },
  {
   "cell_type": "code",
   "execution_count": 69,
   "metadata": {},
   "outputs": [
    {
     "name": "stdout",
     "output_type": "stream",
     "text": [
      "[3. 3. 3. 3. 3.]\n",
      "tensor([3., 3., 3., 3., 3.], dtype=torch.float64)\n"
     ]
    }
   ],
   "source": [
    "np.add(n, 2, out=n)\n",
    "print(n)\n",
    "print(t)"
   ]
  },
  {
   "cell_type": "code",
   "execution_count": null,
   "metadata": {},
   "outputs": [],
   "source": []
  }
 ],
 "metadata": {
  "kernelspec": {
   "display_name": "Python 3",
   "language": "python",
   "name": "python3"
  },
  "language_info": {
   "codemirror_mode": {
    "name": "ipython",
    "version": 3
   },
   "file_extension": ".py",
   "mimetype": "text/x-python",
   "name": "python",
   "nbconvert_exporter": "python",
   "pygments_lexer": "ipython3",
   "version": "3.11.1"
  }
 },
 "nbformat": 4,
 "nbformat_minor": 2
}
